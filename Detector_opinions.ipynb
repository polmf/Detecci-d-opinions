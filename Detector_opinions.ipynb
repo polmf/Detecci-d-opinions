{
 "cells": [
  {
   "cell_type": "markdown",
   "metadata": {},
   "source": [
    "# <span style=\"color:lightblue; font-weight:bold;\">DETECTOR D'OPINIONS</span>"
   ]
  },
  {
   "cell_type": "markdown",
   "metadata": {},
   "source": [
    "## <span style=\"color:#ADD8E6; font-weight:bold;\">Índex:</span>\n",
    "### <span style=\"color:#FFFFFF;\">1. [Supervisat (Pràctica 2.a)](#supervisat)</span>\n",
    "#### <span style=\"color:#FFFFFF;\">1. 1 [Preprocessament](#preprocessing1)</span>\n",
    "### <span style=\"color:#ADD8E6;\">2. [No supervisat (Pràctica 2.b)](#no-supervisat)</span>\n",
    "#### <span style=\"color:#FFFFFF;\">2. 1 [Preprocessament](#preprocessing2)</span>\n",
    "### <span style=\"color:#ADD8E6;\">3. [Conclusions](#conclusions)</span>"
   ]
  },
  {
   "cell_type": "markdown",
   "metadata": {},
   "source": [
    "## <span style=\"color:lightblue;\"> Imports </span>"
   ]
  },
  {
   "cell_type": "code",
   "execution_count": 1,
   "metadata": {},
   "outputs": [],
   "source": [
    "import nltk\n",
    "import pandas as pd\n",
    "import numpy as np\n",
    "from nltk.corpus import movie_reviews\n",
    "from nltk.tokenize import word_tokenize, sent_tokenize\n",
    "from sklearn.model_selection import train_test_split\n",
    "from sklearn.feature_extraction.text import CountVectorizer\n",
    "from sklearn.model_selection import GridSearchCV\n",
    "from sklearn.naive_bayes import MultinomialNB\n",
    "from sklearn.svm import SVC\n",
    "from sklearn.linear_model import LogisticRegression\n",
    "from sklearn.tree import DecisionTreeClassifier\n",
    "from sklearn.model_selection import cross_val_score\n",
    "from sklearn.metrics import accuracy_score, confusion_matrix\n",
    "from string import punctuation\n",
    "from nltk.wsd import lesk\n",
    "from nltk.corpus import sentiwordnet as swn\n",
    "import matplotlib.pyplot as plt\n",
    "import seaborn as sns\n",
    "import warnings\n",
    "\n",
    "warnings.filterwarnings(\"ignore\")"
   ]
  },
  {
   "cell_type": "markdown",
   "metadata": {},
   "source": [
    "## <span style=\"color:lightblue;\"> Descargues </span>"
   ]
  },
  {
   "cell_type": "code",
   "execution_count": null,
   "metadata": {},
   "outputs": [],
   "source": [
    "%pip install scikit-learn nltk\n",
    "%pip install seaborn"
   ]
  },
  {
   "cell_type": "code",
   "execution_count": 3,
   "metadata": {},
   "outputs": [
    {
     "name": "stderr",
     "output_type": "stream",
     "text": [
      "[nltk_data] Downloading package punkt to\n",
      "[nltk_data]     C:\\Users\\USER\\AppData\\Roaming\\nltk_data...\n",
      "[nltk_data]   Package punkt is already up-to-date!\n",
      "[nltk_data] Downloading package movie_reviews to\n",
      "[nltk_data]     C:\\Users\\USER\\AppData\\Roaming\\nltk_data...\n",
      "[nltk_data]   Package movie_reviews is already up-to-date!\n",
      "[nltk_data] Downloading package stopwords to\n",
      "[nltk_data]     C:\\Users\\USER\\AppData\\Roaming\\nltk_data...\n",
      "[nltk_data]   Package stopwords is already up-to-date!\n",
      "[nltk_data] Downloading package sentiwordnet to\n",
      "[nltk_data]     C:\\Users\\USER\\AppData\\Roaming\\nltk_data...\n",
      "[nltk_data]   Package sentiwordnet is already up-to-date!\n",
      "[nltk_data] Downloading package averaged_perceptron_tagger to\n",
      "[nltk_data]     C:\\Users\\USER\\AppData\\Roaming\\nltk_data...\n",
      "[nltk_data]   Package averaged_perceptron_tagger is already up-to-\n",
      "[nltk_data]       date!\n"
     ]
    },
    {
     "data": {
      "text/plain": [
       "True"
      ]
     },
     "execution_count": 3,
     "metadata": {},
     "output_type": "execute_result"
    }
   ],
   "source": [
    "# Descargar recursos adicionales de NLTK\n",
    "nltk.download('punkt')\n",
    "nltk.download('movie_reviews')\n",
    "nltk.download('stopwords')\n",
    "nltk.download('sentiwordnet')\n",
    "nltk.download('averaged_perceptron_tagger')"
   ]
  },
  {
   "cell_type": "markdown",
   "metadata": {},
   "source": [
    "## <span style=\"color:lightblue; font-weight:bold;\">Supervisat (Pràctica 2.a)</span> <a id=\"supervisat\"></a>"
   ]
  },
  {
   "cell_type": "markdown",
   "metadata": {},
   "source": [
    "### <span style=\"color:lightblue;\"> Preprocessament </span> <a id=\"preprocessing1\"></a>"
   ]
  },
  {
   "cell_type": "markdown",
   "metadata": {},
   "source": [
    "<span style=\"color:white;\" > Per a poder entrenar el model correctament hem realitzat el següent preprocessament, primer hem tret les 'stop words' excepte les paraules 'not, no, never', ja que creiem que aquestes poden tenir importància per a detectar si l'opinió és positiva o negativa. Seguidament hem eliminat els signes de puntuació. I finalment, hem separat les opinions i les seves categories que indiquen si són positives o negatives. </span>"
   ]
  },
  {
   "cell_type": "code",
   "execution_count": 4,
   "metadata": {},
   "outputs": [],
   "source": [
    "# Obtenim la llista de paraules buides i definim signes de puntuació\n",
    "stop_words = set(nltk.corpus.stopwords.words('english'))\n",
    "punctuations = set(punctuation)\n",
    "\n",
    "# Agreguem les paraules que desitgem mantenir de la llista de paraules buides\n",
    "words_to_keep = [\"not\", \"no\", \"never\"]\n",
    "stop_words = stop_words.difference(set(words_to_keep))\n",
    "\n",
    "\n",
    "def preprocess_text(text):\n",
    "    \n",
    "    \"\"\" \n",
    "    Tokenitzem el text, i ens quedem amb les paraules \n",
    "    que no són signes de puntuació ni paraules buides\n",
    "    \"\"\"\n",
    "    \n",
    "    tokens = nltk.word_tokenize(text.lower())\n",
    "    \n",
    "    tokens = [word for word in tokens if word.isalpha() and word not in punctuations and word not in stop_words]\n",
    "    #tokens = [word for word in tokens if word not in stop_words]\n",
    "    \n",
    "    return ' '.join(tokens)\n",
    "\n",
    "# Obtenim les opinions i les seves categories\n",
    "documents = [(preprocess_text(movie_reviews.raw(fileid)), category)\n",
    "             for category in movie_reviews.categories()\n",
    "             for fileid in movie_reviews.fileids(category)]\n",
    "\n",
    "reviews = [opinion[0] for opinion in documents]\n",
    "labels = [opinion[1] for opinion in documents]\n"
   ]
  },
  {
   "cell_type": "markdown",
   "metadata": {},
   "source": [
    "<span style=\"color:white;\" > A continuació, inicialitzem el 'vectoritzador' amb un valor de 'min_df' igual a 15 ja que..... Aquest paràmetre és crucial per representar les nostres dades amb eficàcia. Posteriorment, procedim a dividir el conjunt de dades en conjunts d'entrenament i de prova. El 'min_df' ens ajuda a donar prioritat a les paraules que apareixen amb una freqüència significativa en diferents documents. En altres paraules, considera la presència d'una paraula en múltiples documents, en lloc de simplement comptar quantes vegades apareix en un sol document. Això ens permet obtenir una representació més robusta dels nostres textos. </span>"
   ]
  },
  {
   "cell_type": "code",
   "execution_count": 5,
   "metadata": {},
   "outputs": [],
   "source": [
    "vectorizer = CountVectorizer(min_df=15) # per comentar\n",
    "\n",
    "X = vectorizer.fit_transform(reviews)\n",
    "\n",
    "X_train, X_test, y_train, y_test = train_test_split(X, labels, test_size=0.2, random_state=42)"
   ]
  },
  {
   "cell_type": "markdown",
   "metadata": {},
   "source": [
    "<span style=\"color:white;\" >\n",
    "    Per fer la predicció seguint l'aprenentatge supervisat, hem seleccionat quatre models supervisats diferents per a comparar-los i determinar quin generalitza millor per obtenir resultats bons. <br>\n",
    "    Els models supervisats escollits són els següents: \n",
    "    <ol style=\"color:white;\">\n",
    "        <li>Multinomial Naive Bayes (MultinomialNB)</li>\n",
    "        <li>Màquines de Vector Suport (SVM)</li>\n",
    "        <li>Regressió Logística (Logistic Regression)</li>\n",
    "        <li>Arbres de Decisió (Decision Tree)</li>\n",
    "    </ol>\n",
    "</span>\n"
   ]
  },
  {
   "cell_type": "markdown",
   "metadata": {},
   "source": [
    "<span style=\"color:white;\" > Primerament, fem 'grid_search' per a trobar els millors paràmetres per cada model. </span>"
   ]
  },
  {
   "cell_type": "code",
   "execution_count": 6,
   "metadata": {},
   "outputs": [
    {
     "name": "stdout",
     "output_type": "stream",
     "text": [
      "Millors paràmetres per a Naive Bayes: {'alpha': 20.0, 'class_prior': None, 'fit_prior': True}\n"
     ]
    }
   ],
   "source": [
    "nb_param_grid = {\n",
    "    'alpha': [0.1, 0.5, 1.0, 2.0, 5.0, 10.0, 20.0],\n",
    "    'fit_prior': [True, False],\n",
    "    'class_prior': [None, [0.3, 0.7], [0.5, 0.5]]\n",
    "}\n",
    "nb_grid_search = GridSearchCV(MultinomialNB(), nb_param_grid, cv=5)\n",
    "nb_grid_search.fit(X_train, y_train)\n",
    "print(\"Millors paràmetres per a Naive Bayes:\",nb_grid_search.best_params_)"
   ]
  },
  {
   "cell_type": "code",
   "execution_count": 7,
   "metadata": {},
   "outputs": [
    {
     "name": "stdout",
     "output_type": "stream",
     "text": [
      "Millors paràmetres per a SVM: {'C': 10, 'gamma': 'auto', 'kernel': 'rbf'}\n"
     ]
    }
   ],
   "source": [
    "svm_param_grid = {'C': [0.1, 1, 10], 'gamma': ['scale', 'auto'], 'kernel': ['linear', 'rbf']}\n",
    "svm_grid_search = GridSearchCV(SVC(kernel='linear'), svm_param_grid, cv=5)\n",
    "svm_grid_search.fit(X_train, y_train)\n",
    "print(\"Millors paràmetres per a SVM:\", svm_grid_search.best_params_)"
   ]
  },
  {
   "cell_type": "code",
   "execution_count": 8,
   "metadata": {},
   "outputs": [
    {
     "name": "stdout",
     "output_type": "stream",
     "text": [
      "Millors paràmetres per a Regresión Logística: {'C': 0.1, 'solver': 'newton-cg'}\n"
     ]
    }
   ],
   "source": [
    "logistic_param_grid = {\n",
    "    'C': [0.1, 1, 10, 100],\n",
    "    'solver': ['newton-cg', 'lbfgs', 'liblinear']\n",
    "}  \n",
    "logistic_grid_search = GridSearchCV(LogisticRegression(max_iter=1000), logistic_param_grid, cv=5)\n",
    "logistic_grid_search.fit(X_train, y_train)\n",
    "print(\"Millors paràmetres per a Regresión Logística:\", logistic_grid_search.best_params_)"
   ]
  },
  {
   "cell_type": "code",
   "execution_count": 9,
   "metadata": {},
   "outputs": [
    {
     "name": "stdout",
     "output_type": "stream",
     "text": [
      "Millors paràmetres per a Decision Tree: {'max_depth': 30, 'min_samples_leaf': 2, 'min_samples_split': 5}\n"
     ]
    }
   ],
   "source": [
    "tree_param_grid = {'max_depth': [None, 10, 20, 30], 'min_samples_split': [2, 5, 10], 'min_samples_leaf': [1, 2, 4]}\n",
    "tree_grid_search = GridSearchCV(DecisionTreeClassifier(), tree_param_grid, cv=5)\n",
    "tree_grid_search.fit(X_train, y_train)\n",
    "print(\"Millors paràmetres per a Decision Tree:\", tree_grid_search.best_params_)"
   ]
  },
  {
   "cell_type": "markdown",
   "metadata": {},
   "source": [
    "<span style=\"color:white;\" > Provem ara quines són les prediccions fetes. </span>"
   ]
  },
  {
   "cell_type": "code",
   "execution_count": 10,
   "metadata": {},
   "outputs": [
    {
     "data": {
      "text/html": [
       "<style>#sk-container-id-1 {color: black;}#sk-container-id-1 pre{padding: 0;}#sk-container-id-1 div.sk-toggleable {background-color: white;}#sk-container-id-1 label.sk-toggleable__label {cursor: pointer;display: block;width: 100%;margin-bottom: 0;padding: 0.3em;box-sizing: border-box;text-align: center;}#sk-container-id-1 label.sk-toggleable__label-arrow:before {content: \"▸\";float: left;margin-right: 0.25em;color: #696969;}#sk-container-id-1 label.sk-toggleable__label-arrow:hover:before {color: black;}#sk-container-id-1 div.sk-estimator:hover label.sk-toggleable__label-arrow:before {color: black;}#sk-container-id-1 div.sk-toggleable__content {max-height: 0;max-width: 0;overflow: hidden;text-align: left;background-color: #f0f8ff;}#sk-container-id-1 div.sk-toggleable__content pre {margin: 0.2em;color: black;border-radius: 0.25em;background-color: #f0f8ff;}#sk-container-id-1 input.sk-toggleable__control:checked~div.sk-toggleable__content {max-height: 200px;max-width: 100%;overflow: auto;}#sk-container-id-1 input.sk-toggleable__control:checked~label.sk-toggleable__label-arrow:before {content: \"▾\";}#sk-container-id-1 div.sk-estimator input.sk-toggleable__control:checked~label.sk-toggleable__label {background-color: #d4ebff;}#sk-container-id-1 div.sk-label input.sk-toggleable__control:checked~label.sk-toggleable__label {background-color: #d4ebff;}#sk-container-id-1 input.sk-hidden--visually {border: 0;clip: rect(1px 1px 1px 1px);clip: rect(1px, 1px, 1px, 1px);height: 1px;margin: -1px;overflow: hidden;padding: 0;position: absolute;width: 1px;}#sk-container-id-1 div.sk-estimator {font-family: monospace;background-color: #f0f8ff;border: 1px dotted black;border-radius: 0.25em;box-sizing: border-box;margin-bottom: 0.5em;}#sk-container-id-1 div.sk-estimator:hover {background-color: #d4ebff;}#sk-container-id-1 div.sk-parallel-item::after {content: \"\";width: 100%;border-bottom: 1px solid gray;flex-grow: 1;}#sk-container-id-1 div.sk-label:hover label.sk-toggleable__label {background-color: #d4ebff;}#sk-container-id-1 div.sk-serial::before {content: \"\";position: absolute;border-left: 1px solid gray;box-sizing: border-box;top: 0;bottom: 0;left: 50%;z-index: 0;}#sk-container-id-1 div.sk-serial {display: flex;flex-direction: column;align-items: center;background-color: white;padding-right: 0.2em;padding-left: 0.2em;position: relative;}#sk-container-id-1 div.sk-item {position: relative;z-index: 1;}#sk-container-id-1 div.sk-parallel {display: flex;align-items: stretch;justify-content: center;background-color: white;position: relative;}#sk-container-id-1 div.sk-item::before, #sk-container-id-1 div.sk-parallel-item::before {content: \"\";position: absolute;border-left: 1px solid gray;box-sizing: border-box;top: 0;bottom: 0;left: 50%;z-index: -1;}#sk-container-id-1 div.sk-parallel-item {display: flex;flex-direction: column;z-index: 1;position: relative;background-color: white;}#sk-container-id-1 div.sk-parallel-item:first-child::after {align-self: flex-end;width: 50%;}#sk-container-id-1 div.sk-parallel-item:last-child::after {align-self: flex-start;width: 50%;}#sk-container-id-1 div.sk-parallel-item:only-child::after {width: 0;}#sk-container-id-1 div.sk-dashed-wrapped {border: 1px dashed gray;margin: 0 0.4em 0.5em 0.4em;box-sizing: border-box;padding-bottom: 0.4em;background-color: white;}#sk-container-id-1 div.sk-label label {font-family: monospace;font-weight: bold;display: inline-block;line-height: 1.2em;}#sk-container-id-1 div.sk-label-container {text-align: center;}#sk-container-id-1 div.sk-container {/* jupyter's `normalize.less` sets `[hidden] { display: none; }` but bootstrap.min.css set `[hidden] { display: none !important; }` so we also need the `!important` here to be able to override the default hidden behavior on the sphinx rendered scikit-learn.org. See: https://github.com/scikit-learn/scikit-learn/issues/21755 */display: inline-block !important;position: relative;}#sk-container-id-1 div.sk-text-repr-fallback {display: none;}</style><div id=\"sk-container-id-1\" class=\"sk-top-container\"><div class=\"sk-text-repr-fallback\"><pre>DecisionTreeClassifier(max_depth=30, min_samples_leaf=2, min_samples_split=5)</pre><b>In a Jupyter environment, please rerun this cell to show the HTML representation or trust the notebook. <br />On GitHub, the HTML representation is unable to render, please try loading this page with nbviewer.org.</b></div><div class=\"sk-container\" hidden><div class=\"sk-item\"><div class=\"sk-estimator sk-toggleable\"><input class=\"sk-toggleable__control sk-hidden--visually\" id=\"sk-estimator-id-1\" type=\"checkbox\" checked><label for=\"sk-estimator-id-1\" class=\"sk-toggleable__label sk-toggleable__label-arrow\">DecisionTreeClassifier</label><div class=\"sk-toggleable__content\"><pre>DecisionTreeClassifier(max_depth=30, min_samples_leaf=2, min_samples_split=5)</pre></div></div></div></div></div>"
      ],
      "text/plain": [
       "DecisionTreeClassifier(max_depth=30, min_samples_leaf=2, min_samples_split=5)"
      ]
     },
     "execution_count": 10,
     "metadata": {},
     "output_type": "execute_result"
    }
   ],
   "source": [
    "nb_model = MultinomialNB(alpha=nb_grid_search.best_params_['alpha'], \n",
    "                        fit_prior=nb_grid_search.best_params_['fit_prior'], \n",
    "                        class_prior=nb_grid_search.best_params_['class_prior'])\n",
    "nb_model.fit(X_train, y_train)\n",
    "\n",
    "svm_model = SVC(C=svm_grid_search.best_params_['C'], \n",
    "                gamma=svm_grid_search.best_params_['gamma'], \n",
    "                kernel=svm_grid_search.best_params_['kernel'])\n",
    "svm_model.fit(X_train, y_train)\n",
    "\n",
    "logistic_model = LogisticRegression(max_iter=1000,  \n",
    "                                    C=logistic_grid_search.best_params_['C'], \n",
    "                                    solver=logistic_grid_search.best_params_['solver'])\n",
    "logistic_model.fit(X_train, y_train)\n",
    "\n",
    "decision_tree_model = DecisionTreeClassifier(max_depth=tree_grid_search.best_params_['max_depth'], \n",
    "                                             min_samples_leaf=tree_grid_search.best_params_['min_samples_leaf'], \n",
    "                                             min_samples_split=tree_grid_search.best_params_['min_samples_split'])\n",
    "decision_tree_model.fit(X_train, y_train)"
   ]
  },
  {
   "cell_type": "markdown",
   "metadata": {},
   "source": [
    "<span style=\"color:white;\" > Per a poder veure quins models generalitzen millor usarem el mètode de 'cross validation' en aquest cas per a cada model fem 5 particions. A continuació podem observar els resultats. Com podem veure en els resultats els models que tenen millor 'accuracy' són 'SVM' i 'Logistic Regression'. </span>"
   ]
  },
  {
   "cell_type": "code",
   "execution_count": 11,
   "metadata": {},
   "outputs": [
    {
     "name": "stdout",
     "output_type": "stream",
     "text": [
      "Naive Bayes Cross-Validation Scores: [0.834375 0.8375   0.803125 0.85     0.790625]\n",
      "Mean Naive Bayes Cross-Validation Score: 0.823\n",
      "\n",
      "\n",
      "SVM Cross-Validation Scores: [0.815625 0.875    0.8125   0.85     0.8125  ]\n",
      "Mean SVM Cross-Validation Score: 0.833\n",
      "\n",
      "\n",
      "Logistic Regression Cross-Validation Scores: [0.821875 0.875    0.809375 0.840625 0.809375]\n",
      "Mean Logistic Regression Cross-Validation Score: 0.831\n",
      "\n",
      "\n",
      "Decision Tree Cross-Validation Scores: [0.675    0.634375 0.6125   0.603125 0.6     ]\n",
      "Mean Decision Tree Cross-Validation Score: 0.625\n"
     ]
    }
   ],
   "source": [
    "# Validació creuada per a Naive Bayes\n",
    "nb_cv_scores = cross_val_score(nb_model, X_train, y_train, cv=5)\n",
    "print(\"Naive Bayes Cross-Validation Scores:\", nb_cv_scores)\n",
    "print(f\"Mean Naive Bayes Cross-Validation Score: {nb_cv_scores.mean():.3f}\")\n",
    "print(\"\\n\")\n",
    "\n",
    "# Validació creuada per a SVM\n",
    "svm_cv_scores = cross_val_score(svm_model, X_train, y_train, cv=5)\n",
    "print(\"SVM Cross-Validation Scores:\", svm_cv_scores)\n",
    "print(f\"Mean SVM Cross-Validation Score: {svm_cv_scores.mean():.3f}\")\n",
    "print(\"\\n\")\n",
    "\n",
    "# Validació creuada per a Regresión Logística\n",
    "logistic_cv_scores = cross_val_score(logistic_model, X_train, y_train, cv=5)\n",
    "print(\"Logistic Regression Cross-Validation Scores:\", logistic_cv_scores)\n",
    "print(f\"Mean Logistic Regression Cross-Validation Score: {logistic_cv_scores.mean():.3f}\")\n",
    "print(\"\\n\")\n",
    "\n",
    "# Validació creuada per a Decision Tree\n",
    "decision_tree_cv_scores = cross_val_score(decision_tree_model, X_train, y_train, cv=5)\n",
    "print(\"Decision Tree Cross-Validation Scores:\", decision_tree_cv_scores)\n",
    "print(f\"Mean Decision Tree Cross-Validation Score: {decision_tree_cv_scores.mean():.3f}\")\n"
   ]
  },
  {
   "cell_type": "markdown",
   "metadata": {},
   "source": [
    "<span style=\"color:white;\" > Seguidament, mirem els resultats per a la partició del test i observem que els models de 'SVM' i 'Logistic regression' també són els que obtenen millor 'accuracy' en la partició del 'test'. </span>"
   ]
  },
  {
   "cell_type": "code",
   "execution_count": 12,
   "metadata": {},
   "outputs": [
    {
     "name": "stdout",
     "output_type": "stream",
     "text": [
      "                     Model  Accuracy\n",
      "0  Multinomial Naive Bayes    0.8225\n",
      "1                      SVM    0.8250\n",
      "2       Regresió Logistica    0.8225\n",
      "3         Arbre de Decisió    0.6250\n"
     ]
    }
   ],
   "source": [
    "# Realitza les prediccions per als conjunts de prova\n",
    "y_pred_mnb = nb_model.predict(X_test)\n",
    "y_pred_svm = svm_model.predict(X_test)\n",
    "y_pred_logistic = logistic_model.predict(X_test)\n",
    "y_pred_decision_tree = decision_tree_model.predict(X_test)\n",
    "\n",
    "# Calcular accuracies\n",
    "accuracy_mnb = accuracy_score(y_test, y_pred_mnb)\n",
    "accuracy_svm = accuracy_score(y_test, y_pred_svm)\n",
    "accuracy_logistic = accuracy_score(y_test, y_pred_logistic)\n",
    "accuracy_decision_tree = accuracy_score(y_test, y_pred_decision_tree)\n",
    "\n",
    "# Crear el dataframe\n",
    "data = {\n",
    "    'Model': ['Multinomial Naive Bayes', 'SVM', 'Regresió Logistica', 'Arbre de Decisió'],\n",
    "    'Accuracy': [accuracy_mnb, accuracy_svm, accuracy_logistic, accuracy_decision_tree]\n",
    "}\n",
    "\n",
    "taula_accuracy = pd.DataFrame(data)\n",
    "\n",
    "# Mostrar la taula\n",
    "print(taula_accuracy)"
   ]
  },
  {
   "cell_type": "markdown",
   "metadata": {},
   "source": [
    "<span style=\"color:white;\" > A continuació podem observar la matriu de confusió del model realitzat amb 'SVM' i 'logistic regression', ja que són els models que generalitzen millor. Podem veure com la majoria dels valors es troben en la diagonal i que les vegades que ha predit malament les positives i les negatives són molt semblants. </span>"
   ]
  },
  {
   "cell_type": "code",
   "execution_count": 15,
   "metadata": {},
   "outputs": [
    {
     "name": "stdout",
     "output_type": "stream",
     "text": [
      "Accuracy SVM: 0.825\n"
     ]
    },
    {
     "data": {
      "image/png": "[encoded data removed]",
      "text/plain": [
       "<Figure size 800x600 with 2 Axes>"
      ]
     },
     "metadata": {},
     "output_type": "display_data"
    }
   ],
   "source": [
    "print('Accuracy SVM:',accuracy_score(y_test, y_pred_svm))\n",
    "\n",
    "# Calcula la matriu de confusió\n",
    "conf_matrix = confusion_matrix(y_test, y_pred_svm)\n",
    "\n",
    "# Defineix les etiquetas de les clases\n",
    "classes = ['Negatiu', 'Positiu']\n",
    "\n",
    "# Crea la figura\n",
    "plt.figure(figsize=(8, 6))\n",
    "\n",
    "# Crea la matriu de confusió com un mapa de calor\n",
    "sns.heatmap(conf_matrix, annot=True, fmt='d', cmap='Blues', xticklabels=classes, yticklabels=classes)\n",
    "\n",
    "# Etiquetas y títol\n",
    "plt.xlabel('Etiqueta Predita')\n",
    "plt.ylabel('Etiqueta Original')\n",
    "plt.title('Matriu de Confusió')\n",
    "\n",
    "# Mostra la matriu de confusió\n",
    "plt.show()"
   ]
  },
  {
   "cell_type": "code",
   "execution_count": 16,
   "metadata": {},
   "outputs": [
    {
     "name": "stdout",
     "output_type": "stream",
     "text": [
      "Accuracy Logistic Regression:  0.8225\n"
     ]
    },
    {
     "data": {
      "image/png": "[encoded data removed]",
      "text/plain": [
       "<Figure size 800x600 with 2 Axes>"
      ]
     },
     "metadata": {},
     "output_type": "display_data"
    }
   ],
   "source": [
    "print('Accuracy Logistic Regression: ',accuracy_score(y_test, y_pred_logistic))\n",
    "\n",
    "# Calcula la matriu de confusió\n",
    "conf_matrix = confusion_matrix(y_test, y_pred_logistic)\n",
    "\n",
    "# Defineix les etiquetas de les clases\n",
    "classes = ['Negatiu', 'Positiu']\n",
    "\n",
    "# Crea la figura\n",
    "plt.figure(figsize=(8, 6))\n",
    "\n",
    "# Crea la matriu de confusió com un mapa de calor\n",
    "sns.heatmap(conf_matrix, annot=True, fmt='d', cmap='Blues', xticklabels=classes, yticklabels=classes)\n",
    "\n",
    "# Etiquetas y títol\n",
    "plt.xlabel('Etiqueta Predita')\n",
    "plt.ylabel('Etiqueta Original')\n",
    "plt.title('Matriu de Confusió')\n",
    "\n",
    "# Mostra la matriu de confusió\n",
    "plt.show()\n"
   ]
  },
  {
   "cell_type": "markdown",
   "metadata": {},
   "source": [
    "<span style=\"color:white;\" > Si comparem les matrius de confusió, observem que la 'regressió logística' fa prediccions molt equilibrades, és a dir, prediu amb la mateixa probabilitat les categories negatives i positives. En canvi, el model 'SVM' fa prediccions una mica desbalancejades, decantant-se per fer prediccions més negatives. </span>"
   ]
  },
  {
   "cell_type": "markdown",
   "metadata": {},
   "source": [
    "## <span style=\"color:lightblue; font-weight:bold;\">No supervisat (Pràctica 2.b)</span> <a id=\"no-supervisat\"></a>"
   ]
  },
  {
   "cell_type": "markdown",
   "metadata": {},
   "source": [
    "<span style=\"color:white;\" > A continuació fem la partició 'train', 'test' amb la mateixa llavor que en els models supervisats per obtenir la mateixa partició, però ara amb les 'reviews' sense vectoritzar. </span>"
   ]
  },
  {
   "cell_type": "code",
   "execution_count": 17,
   "metadata": {},
   "outputs": [],
   "source": [
    "X_train, X_test, y_train, y_test = train_test_split(reviews, labels, test_size=0.2, random_state=42)"
   ]
  },
  {
   "cell_type": "markdown",
   "metadata": {},
   "source": [
    "### <span style=\"color:lightblue;\" >Preprocessament </span> <a id=\"preprocessing2\"></a>"
   ]
  },
  {
   "cell_type": "markdown",
   "metadata": {},
   "source": [
    "<span style=\"color:white;\" > En aquest preprocessament després d'haver provat diferents combinacions (queda per fer la comprovació) ens quedem amb els noms els adjectius i els adverbis. </span>"
   ]
  },
  {
   "cell_type": "code",
   "execution_count": 18,
   "metadata": {},
   "outputs": [],
   "source": [
    "pos_combinations = [('N', 'JJ'), ('N', 'RB'), ('N', 'JJ', 'RB'), ('N', 'VB'), ('JJ'), ('JJ', 'RB'), ('N', 'JJ', 'RB', 'VB')]\n",
    "\n",
    "def keep_specific_pos(review, pos_combo):\n",
    "    \n",
    "    # Tokenizar el text en oracions i paraules\n",
    "    sentences = sent_tokenize(review)\n",
    "    tokenized_sentences = [word_tokenize(sentence) for sentence in sentences]\n",
    "\n",
    "    # Mantenir les paraules específiques per categoria gramatical\n",
    "    filtered_sentences = []\n",
    "    for sentence in tokenized_sentences:\n",
    "        tagged_words = nltk.pos_tag(sentence)            \n",
    "        filtered_sentence = [word for word, pos in tagged_words if pos.startswith(pos_combo)]\n",
    "            \n",
    "        filtered_sentences.append(filtered_sentence)\n",
    "\n",
    "    # Reconstruir les oracions filtrades\n",
    "    filtered_review = [' '.join(sentence) for sentence in filtered_sentences]\n",
    "    return ' '.join(filtered_review)\n",
    "\n",
    "pos_combinacions_reviews = []\n",
    "for pos_combo in pos_combinations:\n",
    "# Conservar els substantius, adjectius, verbs i adverbis de cada revisió\n",
    "    filtered_reviews = [keep_specific_pos(review, pos_combo) for review in X_test]\n",
    "    pos_combinacions_reviews.append(filtered_reviews)"
   ]
  },
  {
   "cell_type": "markdown",
   "metadata": {},
   "source": [
    "### <span style=\"color:lightblue;\">Lesk</span>"
   ]
  },
  {
   "cell_type": "markdown",
   "metadata": {},
   "source": [
    "<span style=\"color:white;\" > Per determinar si una opinió és positiva o negativa, utilitzem el context de les paraules, que ens proporcionen una puntuació segons el 'SentiWordNet'. Si una paraula no està present en el 'SentiWordNet', assignem una puntuació de 0, ja que no podem determinar si és positiva o negativa i, per tant, la considerem neutra en el context. Després d'obtenir les puntuacions de les paraules, les sumem. Si la suma és superior a 0, l'opinió es considera positiva; si és inferior a 0, es considera negativa. </span>"
   ]
  },
  {
   "cell_type": "code",
   "execution_count": 19,
   "metadata": {},
   "outputs": [
    {
     "name": "stdout",
     "output_type": "stream",
     "text": [
      "Best combination of POS tags: JJ\n",
      "Best accuracy: 0.6525\n"
     ]
    }
   ],
   "source": [
    "# Funció per obtenir la puntuació de polaritat d'una paraula utilitzant de Lesk\n",
    "def get_word_sentiment_score_with_lesk(word, context):\n",
    "    # Obtenir el synset amb Lesk\n",
    "    synset = lesk(context, word)\n",
    "    if synset:\n",
    "        # Obtenir els sentiments associats al synset de SentiWordnet\n",
    "        sent_synset = swn.senti_synset(synset.name())\n",
    "        if sent_synset: \n",
    "            return sent_synset.pos_score() - sent_synset.neg_score()\n",
    "    return 0\n",
    "\n",
    "best_accuracy = 0\n",
    "best_lesk_sentences = None\n",
    "\n",
    "# Umbral de polaritat\n",
    "threshold = 0\n",
    "\n",
    "for index, filtered_review in enumerate(pos_combinacions_reviews):\n",
    "    \n",
    "    predicted_labels = []\n",
    "    \n",
    "    # Procesar cada opinió\n",
    "    for opinion in filtered_review:\n",
    "        \n",
    "        # Tokenizar la opinió\n",
    "        tokens = word_tokenize(opinion)\n",
    "        total_sentiment_score = 0\n",
    "        word_count = 0\n",
    "        for i, token in enumerate(tokens):\n",
    "            \n",
    "            # Obtenir el contexto de la paraula (paraules circumdants)\n",
    "            context = tokens[max(0, i-5):i] + tokens[i+1:min(len(tokens), i+6)]\n",
    "            \n",
    "            # Calcular la puntuació de polaritat de la paraula\n",
    "            sentiment_score = get_word_sentiment_score_with_lesk(token, context)\n",
    "            total_sentiment_score += sentiment_score\n",
    "            word_count += 1\n",
    "            \n",
    "        # Calcular la puntuació de polaritat mitjana per a la opinió\n",
    "        if word_count > 0:\n",
    "            average_sentiment_score = total_sentiment_score / word_count\n",
    "            # Determinar si la opinió és positiva, negativa o neutra\n",
    "            if average_sentiment_score >= threshold:\n",
    "                predicted_labels.append(\"pos\")\n",
    "            elif average_sentiment_score < threshold:\n",
    "                predicted_labels.append(\"neg\")\n",
    "\n",
    "    # Calcular l'accuracy\n",
    "    current_accuracy = accuracy_score(y_test, predicted_labels)\n",
    "    \n",
    "    # Actualizar la millor combinació si s'obté una millor accuracy\n",
    "    if current_accuracy > best_accuracy:\n",
    "        best_predicted_labels = predicted_labels\n",
    "        best_lesk_sentences = pos_combinations[index]\n",
    "        best_accuracy = current_accuracy\n",
    "         \n",
    "print(\"Best combination of POS tags:\", best_lesk_sentences)\n",
    "print(\"Best accuracy:\", best_accuracy)"
   ]
  },
  {
   "cell_type": "markdown",
   "metadata": {},
   "source": [
    "<span style=\"color:white;\" > A continuació, podem observar com la majoria dels valors es concentren a la diagonal principal, indicant prediccions correctes. No obstant això, es pot notar que fora de la diagonal hi ha valors notablement alts, especialment amb molts casos de negatives predites com a positives. Això suggereix la necessitat de millorar la capacitat del model per a identificar correctament les opinions negatives. </span>"
   ]
  },
  {
   "cell_type": "code",
   "execution_count": 20,
   "metadata": {},
   "outputs": [
    {
     "name": "stdout",
     "output_type": "stream",
     "text": [
      "0.6525\n"
     ]
    },
    {
     "data": {
      "image/png": "[encoded data removed]",
      "text/plain": [
       "<Figure size 640x480 with 2 Axes>"
      ]
     },
     "metadata": {},
     "output_type": "display_data"
    }
   ],
   "source": [
    "# Calcular la matriu de confusió\n",
    "print(accuracy_score(y_test, best_predicted_labels))\n",
    "conf_matrix = confusion_matrix(y_test, best_predicted_labels)\n",
    "\n",
    "# Visualitzar la matriu de confusió\n",
    "sns.heatmap(conf_matrix, annot=True, fmt='d', cmap='Blues', xticklabels=[\"Negativa\", \"Positiva\"], yticklabels=[\"Negativa\", \"Positiva\"])\n",
    "plt.xlabel(\"Predit\")\n",
    "plt.ylabel(\"Real\")\n",
    "plt.title(\"Matriu de Confusio\")\n",
    "plt.show()"
   ]
  },
  {
   "cell_type": "markdown",
   "metadata": {},
   "source": [
    "### <span style=\"color:lightblue;\">TextServer</span>"
   ]
  },
  {
   "cell_type": "markdown",
   "metadata": {},
   "source": [
    "<span style=\"color:white;\" > A continuació, vam intentar utilitzar 'Text Server', però ens va retornar errors a causa d'un gran nombre d'entrades. Com a alternativa, vam optar per usar el model amb l'algoritme 'LESK', que és el model que hem explicat anteriorment. </span>"
   ]
  },
  {
   "cell_type": "code",
   "execution_count": 71,
   "metadata": {},
   "outputs": [],
   "source": [
    "import requests\n",
    "import pandas as pd\n",
    "import json\n",
    "import sys\n",
    "from functools import reduce\n",
    "\n",
    "load = lambda r: json.loads(r.encode('utf-8'))\n",
    "pars = lambda r: [p for p in r['paragraphs']]\n",
    "sents = lambda p: [s for s in p['sentences']]\n",
    "decode = lambda x: bytes(x,'latin1').decode('utf-8')\n",
    "info = lambda s, f: [f(t) for t in s['tokens']]\n",
    "tokensDecode = lambda s: [decode(t['form']) for t in s['tokens']]\n",
    "tokens = lambda s: [t['form'] for t in s['tokens']]\n",
    "flatten = lambda l: reduce(lambda x, y: x + y, l, [])\n",
    "\n",
    "class TextServer:\n",
    "  def __init__(self, user, pwd, service='morpho'):\n",
    "    self.service = service\n",
    "    self.request_data = {\n",
    "      'username':user,\n",
    "      'password':pwd,\n",
    "      'language': 'ca',\n",
    "      'output': 'json',\n",
    "      'interactive':'1' \n",
    "    }\n",
    "\n",
    "  def query(self, text):\n",
    "    url = \"http://frodo.lsi.upc.edu:8080/TextWS/textservlet/ws/processQuery/\"+self.service\n",
    "    self.request_data['text_input'] = text\n",
    "    resp = requests.post(url, files=self.request_data)\n",
    "    if resp.status_code != requests.codes.ok : \n",
    "      resp.raise_for_status()\n",
    "    return resp.text\n",
    "\n",
    "  def tokenizer(self, text):\n",
    "    self.service = 'tokenizer'\n",
    "    ctnt = self.query(text)\n",
    "    return list(map(tokens, sents(pars(load(ctnt))[0])))\n",
    "\n",
    "  def morpho(self, text, pandas=False):\n",
    "    def cols(t):\n",
    "      return [t['form'],t['lemma'],t['tag'],t['pos']]\n",
    "      \n",
    "    self.service = 'morpho'\n",
    "    ctnt = self.query(text)\n",
    "    if pandas:\n",
    "      dt = list(map(lambda s: info(s, cols), sents(pars(load(ctnt))[0])))\n",
    "      return pd.DataFrame(flatten(dt), columns=['forma', 'lema', 'tag', 'pos'])\n",
    "    else:\n",
    "      return list(map(lambda s: info(s, cols), sents(pars(load(ctnt))[0])))\n",
    "\n",
    "  def senses(self, text, pandas=False):\n",
    "    def cols(t):\n",
    "      l = [t['form'],t['lemma'],t['tag'],t['pos']]\n",
    "      l += [t['wn']] if 'wn' in t else ['N/A']\n",
    "      return l\n",
    "        \n",
    "    self.service = 'senses'\n",
    "    ctnt = self.query(text)\n",
    "    if pandas:\n",
    "      dt = list(map(lambda s: info(s, cols), sents(pars(load(ctnt))[0])))\n",
    "      return pd.DataFrame(flatten(dt), columns=['forma', 'lema', 'tag', 'pos', 'synset'])\n",
    "    else:\n",
    "      return list(map(lambda s: info(s, cols), sents(pars(load(ctnt))[0])))\n",
    "\n",
    "  def entities(self, text, pandas=False):\n",
    "    def cols(t):\n",
    "      l = [t['form'],t['lemma'],t['tag'],t['pos']]\n",
    "      l += [t['wn']] if 'wn' in t else ['N/A']\n",
    "      l += [t['neclass']] if 'neclass' in t else ['N/A']\n",
    "      return l\n",
    "        \n",
    "    self.service = 'entities'\n",
    "    ctnt = self.query(text)\n",
    "    if pandas:\n",
    "      dt = list(map(lambda s: info(s, cols), sents(pars(load(ctnt))[0])))\n",
    "      return pd.DataFrame(flatten(dt), columns=['forma', 'lema', 'tag', 'pos', 'synset', 'neclass'])\n",
    "    else:\n",
    "      return list(map(lambda s: info(s, cols), sents(pars(load(ctnt))[0])))\n",
    "\n",
    "  def dependencies(self, text, pandas=False):\n",
    "    def filtre(d): \n",
    "      res = {}\n",
    "      for k in d:\n",
    "        if k != 'token':\n",
    "          if k!='children':\n",
    "            res[k] = d[k]\n",
    "          else:\n",
    "            res[k] = list(map(filtre,d[k]))\n",
    "      return res\n",
    "        \n",
    "    self.service = 'dependencies'\n",
    "    ctnt = self.query(text)\n",
    "    deps = [x[0] for x in map(lambda x: x['dependencies'], sents(pars(load(ctnt))[0]))]\n",
    "    return list(map(filtre, deps))\n",
    "\n",
    "  def coreferences(self, text, pandas=False):\n",
    "    self.service = 'coreferences'\n",
    "    self.request_data['language'] = 'en'\n",
    "    ctnt = self.query(text)\n",
    "    return [[c['words'] for c in x['mentions']] for x in load(ctnt)['coreferences']]\n",
    "      "
   ]
  },
  {
   "cell_type": "markdown",
   "metadata": {},
   "source": [
    "<span style=\"color:white;\" >  A continuació utilitzarem la classe 'OpinionDetector' per analitzar sentiments en textos mitjançant 'Text Server'. Després, classifica les opinions de la mostra de prova (X_test) com a positives o negatives i avalua la seva precisió fent servir una matriu de confusió. Aquest procés ens ajuda a entendre com el model interpreta els sentiments i com classifica les opinions en els textos. </span>"
   ]
  },
  {
   "cell_type": "code",
   "execution_count": 1,
   "metadata": {},
   "outputs": [
    {
     "ename": "NameError",
     "evalue": "name 'TextServer' is not defined",
     "output_type": "error",
     "traceback": [
      "\u001b[1;31m---------------------------------------------------------------------------\u001b[0m",
      "\u001b[1;31mNameError\u001b[0m                                 Traceback (most recent call last)",
      "Cell \u001b[1;32mIn[1], line 47\u001b[0m\n\u001b[0;32m     45\u001b[0m user2 \u001b[38;5;241m=\u001b[39m \u001b[38;5;124m'\u001b[39m\u001b[38;5;124mmiquel_ropero\u001b[39m\u001b[38;5;124m'\u001b[39m\n\u001b[0;32m     46\u001b[0m pwd2 \u001b[38;5;241m=\u001b[39m \u001b[38;5;124m'\u001b[39m\u001b[38;5;124mMIKIrop22!\u001b[39m\u001b[38;5;124m'\u001b[39m\n\u001b[1;32m---> 47\u001b[0m opinion_detector \u001b[38;5;241m=\u001b[39m \u001b[43mOpinionDetector\u001b[49m\u001b[43m(\u001b[49m\u001b[43muser\u001b[49m\u001b[43m,\u001b[49m\u001b[43m \u001b[49m\u001b[43mpwd\u001b[49m\u001b[43m)\u001b[49m\n\u001b[0;32m     49\u001b[0m results \u001b[38;5;241m=\u001b[39m []\n\u001b[0;32m     50\u001b[0m \u001b[38;5;28;01mfor\u001b[39;00m review \u001b[38;5;129;01min\u001b[39;00m X_test:\n",
      "Cell \u001b[1;32mIn[1], line 3\u001b[0m, in \u001b[0;36mOpinionDetector.__init__\u001b[1;34m(self, user, pwd)\u001b[0m\n\u001b[0;32m      2\u001b[0m \u001b[38;5;28;01mdef\u001b[39;00m \u001b[38;5;21m__init__\u001b[39m(\u001b[38;5;28mself\u001b[39m, user, pwd):\n\u001b[1;32m----> 3\u001b[0m     \u001b[38;5;28mself\u001b[39m\u001b[38;5;241m.\u001b[39mtext_server \u001b[38;5;241m=\u001b[39m \u001b[43mTextServer\u001b[49m(user, pwd)\n",
      "\u001b[1;31mNameError\u001b[0m: name 'TextServer' is not defined"
     ]
    }
   ],
   "source": [
    "from nltk.corpus import wordnet as wn\n",
    "\n",
    "class OpinionDetector:\n",
    "    def __init__(self, user, pwd):\n",
    "        self.text_server = TextServer(user, pwd)\n",
    "    \n",
    "    def get_synsets_and_sentiments(self, text):\n",
    "        synsets_info = self.text_server.senses(text, pandas=False)\n",
    "        results = []\n",
    "        for sentence in synsets_info:\n",
    "            sentence_results = []\n",
    "            for token_info in sentence:\n",
    "                form, lemma, tag, pos, synset = token_info\n",
    "                if pos == 'noun':\n",
    "                    pos = 'n'\n",
    "                elif pos == 'adjective':\n",
    "                    pos = 'a'\n",
    "                elif pos == 'adverb':\n",
    "                    pos = 'r'\n",
    "                elif pos == 'verb':\n",
    "                    pos = 'v'\n",
    "                else:\n",
    "                    continue\n",
    "                \n",
    "                sentiment_score = self.get_sentiment_score(lemma, pos)\n",
    "                sentence_results.append((form, lemma, tag, pos, synset, sentiment_score))\n",
    "                \n",
    "            results.append(sentence_results)\n",
    "        return results\n",
    "    \n",
    "    def get_sentiment_score(self, lemma, pos):\n",
    "        # Obté el synset de WordNet utilitzant el lema i la part de la parla\n",
    "        synsets = wn.synsets(lemma, pos=pos)\n",
    "        \n",
    "        # Si hi ha diversos synsets amb el mateix lema i POS, ecollim el primer\n",
    "        if synsets:\n",
    "            synset = synsets[0]\n",
    "            senti_synset = swn.senti_synset(synset.name())\n",
    "            if senti_synset:\n",
    "                return senti_synset.pos_score() - senti_synset.neg_score()\n",
    "        \n",
    "        return 0  # retorna 0 si no troba el sentiSynset\n",
    "\n",
    "\n",
    "user = \"client2\"\n",
    "pwd = \"FASTandFURIOUS333!\"\n",
    "user2 = 'miquel_ropero'\n",
    "pwd2 = 'MIKIrop22!'\n",
    "opinion_detector = OpinionDetector(user, pwd)\n",
    "\n",
    "results = []\n",
    "for review in X_test:\n",
    "    document = opinion_detector.get_synsets_and_sentiments(review)\n",
    "    results.append(document)\n",
    "\n",
    "predicted_labels = []\n",
    "\n",
    "threshold = 0\n",
    "total_sentiment_score = 0.0\n",
    "for sentence in results:\n",
    "    word_count = 0\n",
    "    for token_info in sentence:\n",
    "        form, lemma, tag, pos, synset, sentiment_score = token_info\n",
    "        print(f\"Forma: {form}, Lemma: {lemma}, TAG: {tag}, POS: {pos}, Synset: {synset}, Sentimiento: {sentiment_score}\")\n",
    "        total_sentiment_score += sentiment_score\n",
    "        word_count += 1\n",
    "        \n",
    "    average_sentiment_score = total_sentiment_score / word_count\n",
    "    # Determina si la opinió és positiva, negativa o neutra\n",
    "    if average_sentiment_score >= threshold:\n",
    "        predicted_labels.append(\"pos\")\n",
    "    elif average_sentiment_score < threshold:\n",
    "        predicted_labels.append(\"neg\")\n",
    "\n",
    "# Calcular la matriu de confusió\n",
    "print(accuracy_score(y_test, predicted_labels))\n",
    "conf_matrix = confusion_matrix(y_test, predicted_labels)\n",
    "\n",
    "# Visualitzar la matriu de confusió\n",
    "sns.heatmap(conf_matrix, annot=True, fmt='d', cmap='Blues', xticklabels=[\"Negativa\", \"Positiva\"], yticklabels=[\"Negativa\", \"Positiva\"])\n",
    "plt.xlabel(\"Predit\")\n",
    "plt.ylabel(\"Real\")\n",
    "plt.title(\"Matriu de Confusio\")\n",
    "plt.show()"
   ]
  },
  {
   "cell_type": "markdown",
   "metadata": {},
   "source": [
    "## <span style=\"color:lightblue; font-weight:bold;\">3. Conclusions </span> <a id=\"conclusions\"></a>"
   ]
  },
  {
   "cell_type": "markdown",
   "metadata": {},
   "source": [
    "<span style=\"color:white;\" > En aquesta pràctica, hem explorat diversos mètodes tant supervisats com no supervisats per a la classificació d'opinions sobre pel·lícules. Tot i que els models no supervisats ofereixen una perspectiva interessant sobre les dades, els resultats obtinguts amb els models supervisats com Naive Bayes, SVM, Logistic Regression han estat més precisos i fiables que l'únic model no supervisat que hem pogut executar, és a dir, el Lesk. Això suggereix que, en aquest cas particular, els models supervisats són més adequats per a la tasca de classificació d'opinions. </span>"
   ]
  }
 ],
 "metadata": {
  "kernelspec": {
   "display_name": "Python 3",
   "language": "python",
   "name": "python3"
  },
  "language_info": {
   "codemirror_mode": {
    "name": "ipython",
    "version": 3
   },
   "file_extension": ".py",
   "mimetype": "text/x-python",
   "name": "python",
   "nbconvert_exporter": "python",
   "pygments_lexer": "ipython3",
   "version": "3.11.0"
  }
 },
 "nbformat": 4,
 "nbformat_minor": 2
}
