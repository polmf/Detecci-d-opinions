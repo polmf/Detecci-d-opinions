{
 "cells": [
  {
   "cell_type": "code",
   "execution_count": null,
   "metadata": {},
   "outputs": [],
   "source": [
    "%pip install scikit-learn nltk\n",
    "%pip install seaborn"
   ]
  },
  {
   "cell_type": "code",
   "execution_count": 1,
   "metadata": {},
   "outputs": [],
   "source": [
    "import nltk\n",
    "from nltk.corpus import movie_reviews\n",
    "from nltk.tokenize import word_tokenize\n",
    "from sklearn.model_selection import train_test_split\n",
    "from sklearn.feature_extraction.text import CountVectorizer\n",
    "from sklearn.naive_bayes import MultinomialNB\n",
    "from sklearn.metrics import accuracy_score, confusion_matrix"
   ]
  },
  {
   "cell_type": "code",
   "execution_count": 2,
   "metadata": {},
   "outputs": [
    {
     "name": "stderr",
     "output_type": "stream",
     "text": [
      "[nltk_data] Downloading package movie_reviews to\n",
      "[nltk_data]     C:\\Users\\USER\\AppData\\Roaming\\nltk_data...\n",
      "[nltk_data]   Package movie_reviews is already up-to-date!\n"
     ]
    },
    {
     "data": {
      "text/plain": [
       "True"
      ]
     },
     "execution_count": 2,
     "metadata": {},
     "output_type": "execute_result"
    }
   ],
   "source": [
    "nltk.download('movie_reviews')"
   ]
  },
  {
   "cell_type": "code",
   "execution_count": 11,
   "metadata": {},
   "outputs": [],
   "source": [
    "documents = [(movie_reviews.raw(fileid), category)\n",
    "             for category in movie_reviews.categories()\n",
    "             for fileid in movie_reviews.fileids(category)]\n",
    "\n",
    "etiquetes = [opinion[1] for opinion in documents]\n",
    "\n",
    "all_words = [w.lower() for w in movie_reviews.words()]\n",
    "all_words = nltk.FreqDist(all_words)\n",
    "word_features = list(all_words.keys())[:3000]\n",
    "\n",
    "def document_features(document):\n",
    "    document_words = set(document)\n",
    "    features = {}\n",
    "    for word in word_features:\n",
    "        features[word] = (word in document_words)\n",
    "    return features\n",
    "\n",
    "featuresets = [(document_features(d), c) for (d,c) in documents]"
   ]
  },
  {
   "cell_type": "code",
   "execution_count": 14,
   "metadata": {},
   "outputs": [
    {
     "name": "stderr",
     "output_type": "stream",
     "text": [
      "[nltk_data] Downloading package stopwords to\n",
      "[nltk_data]     C:\\Users\\USER\\AppData\\Roaming\\nltk_data...\n",
      "[nltk_data]   Package stopwords is already up-to-date!\n"
     ]
    }
   ],
   "source": [
    "import nltk\n",
    "from nltk.corpus import stopwords\n",
    "from string import punctuation\n",
    "\n",
    "# Descargar recursos adicionales de NLTK\n",
    "nltk.download('stopwords')\n",
    "\n",
    "# Obtener lista de palabras vacías y definir signos de puntuación\n",
    "stop_words = set(stopwords.words('english'))\n",
    "punctuations = set(punctuation)\n",
    "\n",
    "# Función para extraer características del documento eliminando palabras vacías y signos de puntuación\n",
    "def document_features(document):\n",
    "    # Tokenizar el documento y eliminar signos de puntuación\n",
    "    document_words = [word.lower() for word in nltk.word_tokenize(document) if word.lower() not in punctuations]\n",
    "    \n",
    "    # Eliminar palabras vacías\n",
    "    document_words = [word for word in document_words if word.lower() not in stop_words]\n",
    "    \n",
    "    # Crear conjunto de características\n",
    "    features = {}\n",
    "    for word in word_features:\n",
    "        features[word] = (word in document_words)\n",
    "    return features\n",
    "\n",
    "\n",
    "documents = [(movie_reviews.raw(fileid), category)\n",
    "             for category in movie_reviews.categories()\n",
    "             for fileid in movie_reviews.fileids(category)]\n",
    "\n",
    "etiquetes = [opinion[1] for opinion in documents]\n",
    "\n",
    "all_words = [w.lower() for w in movie_reviews.words()]\n",
    "all_words = nltk.FreqDist(all_words)\n",
    "word_features = list(all_words.keys())[:3000]\n",
    "\n",
    "featuresets = [(document_features(d), c) for (d,c) in documents]\n"
   ]
  },
  {
   "cell_type": "code",
   "execution_count": 15,
   "metadata": {},
   "outputs": [],
   "source": [
    "# Obtener críticas\n",
    "reviews = [movie_reviews.raw(fileid) for fileid in movie_reviews.fileids()]\n",
    "\n",
    "# Inicializa el CountVectorizer\n",
    "vectorizer = CountVectorizer(min_df=10)\n",
    "\n",
    "# Transforma las críticas en vectores de características\n",
    "X = vectorizer.fit_transform(reviews)"
   ]
  },
  {
   "cell_type": "code",
   "execution_count": 6,
   "metadata": {},
   "outputs": [
    {
     "name": "stdout",
     "output_type": "stream",
     "text": [
      "(2000, 8187)\n"
     ]
    }
   ],
   "source": [
    "print(X.shape)"
   ]
  },
  {
   "cell_type": "code",
   "execution_count": 16,
   "metadata": {},
   "outputs": [],
   "source": [
    "X_train, X_test, y_train, y_test = train_test_split(X, etiquetes, test_size=0.2, random_state=42)"
   ]
  },
  {
   "cell_type": "code",
   "execution_count": 19,
   "metadata": {},
   "outputs": [
    {
     "data": {
      "text/html": [
       "<style>#sk-container-id-4 {color: black;}#sk-container-id-4 pre{padding: 0;}#sk-container-id-4 div.sk-toggleable {background-color: white;}#sk-container-id-4 label.sk-toggleable__label {cursor: pointer;display: block;width: 100%;margin-bottom: 0;padding: 0.3em;box-sizing: border-box;text-align: center;}#sk-container-id-4 label.sk-toggleable__label-arrow:before {content: \"▸\";float: left;margin-right: 0.25em;color: #696969;}#sk-container-id-4 label.sk-toggleable__label-arrow:hover:before {color: black;}#sk-container-id-4 div.sk-estimator:hover label.sk-toggleable__label-arrow:before {color: black;}#sk-container-id-4 div.sk-toggleable__content {max-height: 0;max-width: 0;overflow: hidden;text-align: left;background-color: #f0f8ff;}#sk-container-id-4 div.sk-toggleable__content pre {margin: 0.2em;color: black;border-radius: 0.25em;background-color: #f0f8ff;}#sk-container-id-4 input.sk-toggleable__control:checked~div.sk-toggleable__content {max-height: 200px;max-width: 100%;overflow: auto;}#sk-container-id-4 input.sk-toggleable__control:checked~label.sk-toggleable__label-arrow:before {content: \"▾\";}#sk-container-id-4 div.sk-estimator input.sk-toggleable__control:checked~label.sk-toggleable__label {background-color: #d4ebff;}#sk-container-id-4 div.sk-label input.sk-toggleable__control:checked~label.sk-toggleable__label {background-color: #d4ebff;}#sk-container-id-4 input.sk-hidden--visually {border: 0;clip: rect(1px 1px 1px 1px);clip: rect(1px, 1px, 1px, 1px);height: 1px;margin: -1px;overflow: hidden;padding: 0;position: absolute;width: 1px;}#sk-container-id-4 div.sk-estimator {font-family: monospace;background-color: #f0f8ff;border: 1px dotted black;border-radius: 0.25em;box-sizing: border-box;margin-bottom: 0.5em;}#sk-container-id-4 div.sk-estimator:hover {background-color: #d4ebff;}#sk-container-id-4 div.sk-parallel-item::after {content: \"\";width: 100%;border-bottom: 1px solid gray;flex-grow: 1;}#sk-container-id-4 div.sk-label:hover label.sk-toggleable__label {background-color: #d4ebff;}#sk-container-id-4 div.sk-serial::before {content: \"\";position: absolute;border-left: 1px solid gray;box-sizing: border-box;top: 0;bottom: 0;left: 50%;z-index: 0;}#sk-container-id-4 div.sk-serial {display: flex;flex-direction: column;align-items: center;background-color: white;padding-right: 0.2em;padding-left: 0.2em;position: relative;}#sk-container-id-4 div.sk-item {position: relative;z-index: 1;}#sk-container-id-4 div.sk-parallel {display: flex;align-items: stretch;justify-content: center;background-color: white;position: relative;}#sk-container-id-4 div.sk-item::before, #sk-container-id-4 div.sk-parallel-item::before {content: \"\";position: absolute;border-left: 1px solid gray;box-sizing: border-box;top: 0;bottom: 0;left: 50%;z-index: -1;}#sk-container-id-4 div.sk-parallel-item {display: flex;flex-direction: column;z-index: 1;position: relative;background-color: white;}#sk-container-id-4 div.sk-parallel-item:first-child::after {align-self: flex-end;width: 50%;}#sk-container-id-4 div.sk-parallel-item:last-child::after {align-self: flex-start;width: 50%;}#sk-container-id-4 div.sk-parallel-item:only-child::after {width: 0;}#sk-container-id-4 div.sk-dashed-wrapped {border: 1px dashed gray;margin: 0 0.4em 0.5em 0.4em;box-sizing: border-box;padding-bottom: 0.4em;background-color: white;}#sk-container-id-4 div.sk-label label {font-family: monospace;font-weight: bold;display: inline-block;line-height: 1.2em;}#sk-container-id-4 div.sk-label-container {text-align: center;}#sk-container-id-4 div.sk-container {/* jupyter's `normalize.less` sets `[hidden] { display: none; }` but bootstrap.min.css set `[hidden] { display: none !important; }` so we also need the `!important` here to be able to override the default hidden behavior on the sphinx rendered scikit-learn.org. See: https://github.com/scikit-learn/scikit-learn/issues/21755 */display: inline-block !important;position: relative;}#sk-container-id-4 div.sk-text-repr-fallback {display: none;}</style><div id=\"sk-container-id-4\" class=\"sk-top-container\"><div class=\"sk-text-repr-fallback\"><pre>DecisionTreeClassifier()</pre><b>In a Jupyter environment, please rerun this cell to show the HTML representation or trust the notebook. <br />On GitHub, the HTML representation is unable to render, please try loading this page with nbviewer.org.</b></div><div class=\"sk-container\" hidden><div class=\"sk-item\"><div class=\"sk-estimator sk-toggleable\"><input class=\"sk-toggleable__control sk-hidden--visually\" id=\"sk-estimator-id-4\" type=\"checkbox\" checked><label for=\"sk-estimator-id-4\" class=\"sk-toggleable__label sk-toggleable__label-arrow\">DecisionTreeClassifier</label><div class=\"sk-toggleable__content\"><pre>DecisionTreeClassifier()</pre></div></div></div></div></div>"
      ],
      "text/plain": [
       "DecisionTreeClassifier()"
      ]
     },
     "execution_count": 19,
     "metadata": {},
     "output_type": "execute_result"
    }
   ],
   "source": [
    "from sklearn.naive_bayes import MultinomialNB\n",
    "\n",
    "# Inicialitza el classificador MultinomialNB\n",
    "nb_model = MultinomialNB()\n",
    "nb_model.fit(X_train, y_train)\n",
    "\n",
    "from sklearn.svm import SVC\n",
    "\n",
    "#Inicialitza el classificador svm\n",
    "svm_model = SVC(kernel='linear')\n",
    "svm_model.fit(X_train, y_train)\n",
    "\n",
    "from sklearn.linear_model import LogisticRegression\n",
    "\n",
    "#Inicialitza el classificador logistic regression\n",
    "logistic_model = LogisticRegression(max_iter=1000)\n",
    "logistic_model.fit(X_train, y_train)\n",
    "\n",
    "from sklearn.tree import DecisionTreeClassifier\n",
    "\n",
    "#Inicialitza el classificador\n",
    "decision_tree_model = DecisionTreeClassifier()\n",
    "decision_tree_model.fit(X_train, y_train)\n"
   ]
  },
  {
   "cell_type": "code",
   "execution_count": 20,
   "metadata": {},
   "outputs": [
    {
     "name": "stdout",
     "output_type": "stream",
     "text": [
      "Naive Bayes Cross-Validation Scores: [0.790625 0.85625  0.79375  0.803125 0.79375 ]\n",
      "Mean Naive Bayes Cross-Validation Score: 0.8074999999999999\n",
      "SVM Cross-Validation Scores: [0.8125   0.8375   0.796875 0.828125 0.79375 ]\n",
      "Mean SVM Cross-Validation Score: 0.81375\n",
      "Logistic Regression Cross-Validation Scores: [0.8375   0.859375 0.803125 0.834375 0.821875]\n",
      "Mean Logistic Regression Cross-Validation Score: 0.83125\n",
      "Decision Tree Cross-Validation Scores: [0.621875 0.678125 0.59375  0.640625 0.68125 ]\n",
      "Mean Decision Tree Cross-Validation Score: 0.643125\n"
     ]
    }
   ],
   "source": [
    "from sklearn.model_selection import cross_val_score\n",
    "\n",
    "# Validación cruzada para Naive Bayes\n",
    "nb_cv_scores = cross_val_score(nb_model, X_train, y_train, cv=5)\n",
    "print(\"Naive Bayes Cross-Validation Scores:\", nb_cv_scores)\n",
    "print(\"Mean Naive Bayes Cross-Validation Score:\", nb_cv_scores.mean())\n",
    "\n",
    "# Validación cruzada para SVM\n",
    "svm_cv_scores = cross_val_score(svm_model, X_train, y_train, cv=5)\n",
    "print(\"SVM Cross-Validation Scores:\", svm_cv_scores)\n",
    "print(\"Mean SVM Cross-Validation Score:\", svm_cv_scores.mean())\n",
    "\n",
    "# Validación cruzada para Regresión Logística\n",
    "logistic_cv_scores = cross_val_score(logistic_model, X_train, y_train, cv=5)\n",
    "print(\"Logistic Regression Cross-Validation Scores:\", logistic_cv_scores)\n",
    "print(\"Mean Logistic Regression Cross-Validation Score:\", logistic_cv_scores.mean())\n",
    "\n",
    "# Validación cruzada para Árboles de Decisión\n",
    "decision_tree_cv_scores = cross_val_score(decision_tree_model, X_train, y_train, cv=5)\n",
    "print(\"Decision Tree Cross-Validation Scores:\", decision_tree_cv_scores)\n",
    "print(\"Mean Decision Tree Cross-Validation Score:\", decision_tree_cv_scores.mean())\n"
   ]
  },
  {
   "cell_type": "code",
   "execution_count": 18,
   "metadata": {},
   "outputs": [
    {
     "name": "stdout",
     "output_type": "stream",
     "text": [
      "                     Model  Accuracy\n",
      "0  Multinomial Naive Bayes    0.8225\n",
      "1                      SVM    0.8175\n",
      "2       Regresió Logistica    0.8250\n",
      "3         Arbre de Decisió    0.6525\n"
     ]
    }
   ],
   "source": [
    "import pandas as pd\n",
    "\n",
    "# Realiza predicciones en el conjunto de prueba\n",
    "y_pred_mnb = nb_model.predict(X_test)\n",
    "y_pred_svm = svm_model.predict(X_test)\n",
    "y_pred_logistic = logistic_model.predict(X_test)\n",
    "y_pred_decision_tree = decision_tree_model.predict(X_test)\n",
    "\n",
    "# Calcular accuracies\n",
    "accuracy_mnb = accuracy_score(y_test, y_pred_mnb)\n",
    "accuracy_svm = accuracy_score(y_test, y_pred_svm)\n",
    "accuracy_logistic = accuracy_score(y_test, y_pred_logistic)\n",
    "accuracy_decision_tree = accuracy_score(y_test, y_pred_decision_tree)\n",
    "\n",
    "# Crear el dataframe\n",
    "data = {\n",
    "    'Model': ['Multinomial Naive Bayes', 'SVM', 'Regresió Logistica', 'Arbre de Decisió'],\n",
    "    'Accuracy': [accuracy_mnb, accuracy_svm, accuracy_logistic, accuracy_decision_tree]\n",
    "}\n",
    "\n",
    "taula_accuracy = pd.DataFrame(data)\n",
    "\n",
    "# Mostrar la tabla\n",
    "print(taula_accuracy)"
   ]
  },
  {
   "cell_type": "code",
   "execution_count": 21,
   "metadata": {},
   "outputs": [
    {
     "data": {
      "image/png": "[encoded data removed]",
      "text/plain": [
       "<Figure size 800x600 with 2 Axes>"
      ]
     },
     "metadata": {},
     "output_type": "display_data"
    }
   ],
   "source": [
    "import matplotlib.pyplot as plt\n",
    "import seaborn as sns\n",
    "\n",
    "# Calcula la matriz de confusión\n",
    "conf_matrix = confusion_matrix(y_test, y_pred_logistic)\n",
    "\n",
    "# Define las etiquetas de las clases\n",
    "classes = ['Negatiu', 'Positiu']\n",
    "\n",
    "# Crea la figura\n",
    "plt.figure(figsize=(8, 6))\n",
    "\n",
    "# Crea la matriz de confusión como un mapa de calor\n",
    "sns.heatmap(conf_matrix, annot=True, fmt='d', cmap='Blues', xticklabels=classes, yticklabels=classes)\n",
    "\n",
    "# Añade etiquetas y título\n",
    "plt.xlabel('Etiqueta Predita')\n",
    "plt.ylabel('Etiqueta Original')\n",
    "plt.title('Matriu de Confusió')\n",
    "\n",
    "\n",
    "# Muestra la matriz de confusión\n",
    "plt.show()\n"
   ]
  },
  {
   "cell_type": "markdown",
   "metadata": {},
   "source": [
    "No supervisat"
   ]
  },
  {
   "cell_type": "code",
   "execution_count": 27,
   "metadata": {},
   "outputs": [
    {
     "name": "stderr",
     "output_type": "stream",
     "text": [
      "[nltk_data] Downloading package sentiwordnet to\n",
      "[nltk_data]     C:\\Users\\USER\\AppData\\Roaming\\nltk_data...\n",
      "[nltk_data]   Unzipping corpora\\sentiwordnet.zip.\n"
     ]
    },
    {
     "data": {
      "text/plain": [
       "True"
      ]
     },
     "execution_count": 27,
     "metadata": {},
     "output_type": "execute_result"
    }
   ],
   "source": [
    "import nltk\n",
    "nltk.download('sentiwordnet')\n"
   ]
  },
  {
   "cell_type": "code",
   "execution_count": null,
   "metadata": {},
   "outputs": [],
   "source": [
    "from nltk.wsd import lesk\n",
    "from nltk.tokenize import word_tokenize\n",
    "from nltk.corpus import movie_reviews\n",
    "from nltk.corpus import sentiwordnet as swn\n",
    "import numpy as np\n",
    "\n",
    "\n",
    "from nltk.wsd import lesk\n",
    "from nltk.tokenize import word_tokenize\n",
    "from nltk.corpus import movie_reviews\n",
    "from nltk.corpus import sentiwordnet as swn\n",
    "import numpy as np\n",
    "\n",
    "# Función para obtener la puntuación de polaridad de una palabra usando Lesk\n",
    "def get_word_sentiment_score_with_lesk(word, context):\n",
    "    # Obtener el synset con Lesk\n",
    "    synset = lesk(context, word)\n",
    "    if synset:\n",
    "        # Obtener los sentimientos asociados al synset de SentiWordnet\n",
    "        sent_synset = swn.senti_synset(synset.name())\n",
    "        if sent_synset:\n",
    "            return sent_synset.pos_score() - sent_synset.neg_score()\n",
    "    return 0\n",
    "\n",
    "# Obtener las opiniones de prueba\n",
    "opinions_test = [movie_reviews.raw(fileid) for fileid in movie_reviews.fileids()]\n",
    "\n",
    "# Umbral de polaridad\n",
    "threshold = 0\n",
    "\n",
    "# Procesar cada opinión\n",
    "for opinion in opinions_test:\n",
    "    # Tokenizar la opinión\n",
    "    tokens = word_tokenize(opinion)\n",
    "    total_sentiment_score = 0\n",
    "    word_count = 0\n",
    "    for i, token in enumerate(tokens):\n",
    "        # Obtener el contexto de la palabra (palabras circundantes)\n",
    "        context = tokens[max(0, i-5):i] + tokens[i+1:min(len(tokens), i+6)]\n",
    "        # Calcular la puntuación de polaridad de la palabra\n",
    "        sentiment_score = get_word_sentiment_score_with_lesk(token, context)\n",
    "        total_sentiment_score += sentiment_score\n",
    "        word_count += 1\n",
    "    # Calcular la puntuación de polaridad promedio para la opinión\n",
    "    if word_count > 0:\n",
    "        average_sentiment_score = total_sentiment_score / word_count\n",
    "        # Determinar si la opinión es positiva, negativa o neutra\n",
    "        if average_sentiment_score > threshold:\n",
    "            print(\"Opinión: Positiva\")\n",
    "        elif average_sentiment_score < threshold:\n",
    "            print(\"Opinión: Negativa\")\n",
    "        else:\n",
    "            print(\"Opinión: Neutra\")\n"
   ]
  },
  {
   "cell_type": "code",
   "execution_count": 34,
   "metadata": {},
   "outputs": [
    {
     "data": {
      "image/png": "[encoded data removed]",
      "text/plain": [
       "<Figure size 640x480 with 2 Axes>"
      ]
     },
     "metadata": {},
     "output_type": "display_data"
    }
   ],
   "source": [
    "from nltk.wsd import lesk\n",
    "from nltk.tokenize import word_tokenize\n",
    "from nltk.corpus import movie_reviews\n",
    "from nltk.corpus import sentiwordnet as swn\n",
    "import numpy as np\n",
    "\n",
    "# Función para obtener la puntuación de polaridad de una palabra usando Lesk\n",
    "def get_word_sentiment_score_with_lesk(word, context):\n",
    "    # Obtener el synset con Lesk\n",
    "    synset = lesk(context, word)\n",
    "    if synset:\n",
    "        # Obtener los sentimientos asociados al synset de SentiWordnet\n",
    "        sent_synset = swn.senti_synset(synset.name())\n",
    "        if sent_synset:\n",
    "            return sent_synset.pos_score() - sent_synset.neg_score()\n",
    "    return 0\n",
    "\n",
    "# Obtener las opiniones de prueba\n",
    "opinions_test = [movie_reviews.raw(fileid) for fileid in movie_reviews.fileids()]\n",
    "\n",
    "\n",
    "# Umbral de polaridad\n",
    "threshold = 0\n",
    "\n",
    "from sklearn.metrics import confusion_matrix\n",
    "import seaborn as sns\n",
    "import matplotlib.pyplot as plt\n",
    "\n",
    "# Lista para almacenar las etiquetas reales y las predicciones\n",
    "real_labels = []\n",
    "predicted_labels = []\n",
    "\n",
    "# Procesar cada opinión\n",
    "for opinion in opinions_test:\n",
    "    # Tokenizar la opinión\n",
    "    tokens = word_tokenize(opinion)\n",
    "    total_sentiment_score = 0\n",
    "    word_count = 0\n",
    "    for i, token in enumerate(tokens):\n",
    "        # Obtener el contexto de la palabra (palabras circundantes)\n",
    "        context = tokens[max(0, i-5):i] + tokens[i+1:min(len(tokens), i+6)]\n",
    "        # Calcular la puntuación de polaridad de la palabra\n",
    "        sentiment_score = get_word_sentiment_score_with_lesk(token, context)\n",
    "        total_sentiment_score += sentiment_score\n",
    "        word_count += 1\n",
    "    # Calcular la puntuación de polaridad promedio para la opinión\n",
    "    if word_count > 0:\n",
    "        average_sentiment_score = total_sentiment_score / word_count\n",
    "        # Determinar si la opinión es positiva, negativa o neutra\n",
    "        if average_sentiment_score > threshold:\n",
    "            predicted_labels.append(\"Positiva\")\n",
    "        elif average_sentiment_score <= threshold:\n",
    "            predicted_labels.append(\"Negativa\")\n",
    "\n",
    "    # Determinar la etiqueta real de la opinión\n",
    "    # Obtener las etiquetas reales de las opiniones de prueba\n",
    "    real_labels = []\n",
    "    for fileid in movie_reviews.fileids():\n",
    "        if fileid.startswith('pos'):\n",
    "            real_labels.append(\"Positiva\")\n",
    "        else:\n",
    "            real_labels.append(\"Negativa\")\n",
    "\n",
    "\n",
    "# Calcular la matriz de confusión\n",
    "conf_matrix = confusion_matrix(real_labels, predicted_labels)\n",
    "\n",
    "# Visualizar la matriz de confusión\n",
    "sns.heatmap(conf_matrix, annot=True, fmt='d', cmap='Blues', xticklabels=[\"Negativa\", \"Positiva\"], yticklabels=[\"Negativa\", \"Positiva\"])\n",
    "plt.xlabel(\"Predicho\")\n",
    "plt.ylabel(\"Real\")\n",
    "plt.title(\"Matriz de Confusión\")\n",
    "plt.show()\n",
    "\n"
   ]
  }
 ],
 "metadata": {
  "kernelspec": {
   "display_name": "Python 3",
   "language": "python",
   "name": "python3"
  },
  "language_info": {
   "codemirror_mode": {
    "name": "ipython",
    "version": 3
   },
   "file_extension": ".py",
   "mimetype": "text/x-python",
   "name": "python",
   "nbconvert_exporter": "python",
   "pygments_lexer": "ipython3",
   "version": "3.12.2"
  }
 },
 "nbformat": 4,
 "nbformat_minor": 2
}
